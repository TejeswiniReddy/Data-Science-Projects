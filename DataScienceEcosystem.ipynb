{
 "cells": [
  {
   "cell_type": "markdown",
   "id": "7a937388-6817-4922-9c27-9fb556abe8b8",
   "metadata": {},
   "source": [
    "# Data Science Tools and Ecosystem\n"
   ]
  },
  {
   "cell_type": "markdown",
   "id": "96d832a4-4c2d-489e-92b1-75dd16cffd71",
   "metadata": {},
   "source": [
    "In this notebook, Data Science Tools and Ecosystem are summarized."
   ]
  },
  {
   "cell_type": "markdown",
   "id": "804ede2d-2d6d-4cc4-af9b-3468a52087d7",
   "metadata": {},
   "source": [
    "**Objectives:**\n",
    "\n",
    "* Python\n",
    "* R \n",
    "* SQL"
   ]
  },
  {
   "cell_type": "markdown",
   "id": "39c940bc-1a9e-41df-bf3c-2deb022248ea",
   "metadata": {},
   "source": [
    "Some of the popular languages that Data Scientists use are:"
   ]
  },
  {
   "cell_type": "markdown",
   "id": "1ef3f5c5-ef89-43b3-958b-565ce436ab16",
   "metadata": {},
   "source": [
    "1. Python\n",
    "1. R\n",
    "1. Swift"
   ]
  },
  {
   "cell_type": "markdown",
   "id": "1c5f195a-3c4a-446b-a87e-e1eccb746d8a",
   "metadata": {},
   "source": [
    "Some of the commonly used libraries used by Data Scientists include:"
   ]
  },
  {
   "cell_type": "markdown",
   "id": "3c2fb9db-07d0-439d-8647-d37ea5e9b657",
   "metadata": {},
   "source": [
    "1. NumPy\n",
    "1. SciPy\n",
    "1. Pandas"
   ]
  },
  {
   "cell_type": "markdown",
   "id": "5a6edd5f-2852-486d-8e83-3eee40c77026",
   "metadata": {},
   "source": [
    "| --- |\n",
    "| Data Science Tools |\n",
    "| --- |\n",
    "| Spyder |\n",
    "| Jupyterlab |\n",
    "| Visual Code | "
   ]
  },
  {
   "cell_type": "markdown",
   "id": "3e34183c-4a21-4368-aaa6-6b02a74dd06e",
   "metadata": {},
   "source": [
    "### Below are a few examples of evaluating arithmetic expressions in Python"
   ]
  },
  {
   "cell_type": "code",
   "execution_count": 2,
   "id": "636b4776-87fa-4518-a428-07da9b3cdffd",
   "metadata": {},
   "outputs": [
    {
     "data": {
      "text/plain": [
       "17"
      ]
     },
     "execution_count": 2,
     "metadata": {},
     "output_type": "execute_result"
    }
   ],
   "source": [
    "# This a simple arithmetic expression to mutiply then add integers\n",
    "(3*4)+5"
   ]
  },
  {
   "cell_type": "code",
   "execution_count": 3,
   "id": "1e70a221-587e-4b86-8784-f6e1e12ddb35",
   "metadata": {},
   "outputs": [
    {
     "data": {
      "text/plain": [
       "3.3333333333333335"
      ]
     },
     "execution_count": 3,
     "metadata": {},
     "output_type": "execute_result"
    }
   ],
   "source": [
    "# This will convert 200 minutes to hours by diving by 60\n",
    "200/60"
   ]
  },
  {
   "cell_type": "markdown",
   "id": "8fe29182-88c7-4247-9fa5-c0656e09da40",
   "metadata": {},
   "source": [
    "## Author\n",
    "### Tejeswini A"
   ]
  },
  {
   "cell_type": "code",
   "execution_count": null,
   "id": "0774af8e-902f-4657-9062-d1f8ccdde4b6",
   "metadata": {},
   "outputs": [],
   "source": []
  }
 ],
 "metadata": {
  "kernelspec": {
   "display_name": "Python",
   "language": "python",
   "name": "conda-env-python-py"
  },
  "language_info": {
   "codemirror_mode": {
    "name": "ipython",
    "version": 3
   },
   "file_extension": ".py",
   "mimetype": "text/x-python",
   "name": "python",
   "nbconvert_exporter": "python",
   "pygments_lexer": "ipython3",
   "version": "3.7.12"
  }
 },
 "nbformat": 4,
 "nbformat_minor": 5
}
